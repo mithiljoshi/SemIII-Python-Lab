{
 "cells": [
  {
   "cell_type": "code",
   "execution_count": 6,
   "metadata": {},
   "outputs": [
    {
     "name": "stdout",
     "output_type": "stream",
     "text": [
      "enter the numbers: 1 2 88 -100\n",
      "[1, 2, 88]\n"
     ]
    }
   ],
   "source": [
    "lst=[int(i) for i in input(\"enter the numbers: \").split(\" \")]\n",
    "sum=0\n",
    "lst1=[]\n",
    "for i in range(len(lst)):\n",
    "    sum+=lst[i]\n",
    "    if sum<0:\n",
    "        print(\"the output is: \", lst1)\n",
    "        break\n",
    "    lst1.append(lst[i])\n",
    "        \n",
    "        \n"
   ]
  },
  {
   "cell_type": "code",
   "execution_count": 31,
   "metadata": {
    "scrolled": true
   },
   "outputs": [
    {
     "name": "stdout",
     "output_type": "stream",
     "text": [
      "enter elements: 5 8 9 0 3 2 7 8 9\n",
      "[9, 9, 8, 8, 7, 5, 3, 2, 0]\n",
      "do you want to continue y/n : y\n",
      "enter elements: 6 8 6 7 0 3\n",
      "[0, 3, 6, 6, 7, 8]\n",
      "do you want to continue y/n : n\n"
     ]
    }
   ],
   "source": [
    "check='y'\n",
    "count=0\n",
    "while check=='y':\n",
    "    lst=[]\n",
    "    lst=[int(i) for i in input(\"enter elements: \").split(\" \")]\n",
    "    count+=1\n",
    "    if len(lst)%2==0:\n",
    "        for i in range(len(lst)):\n",
    "            for j in range(len(lst)-1):\n",
    "                if lst[j]>lst[j+1]:\n",
    "                    t=lst[j]\n",
    "                    lst[j]=lst[j+1]\n",
    "                    lst[j+1]=t\n",
    "        print(lst)\n",
    "\n",
    "    else:\n",
    "        for i in range(len(lst)):\n",
    "            for j in range(len(lst)-1):\n",
    "                if lst[j]<lst[j+1]:\n",
    "                    t=lst[j]\n",
    "                    lst[j]=lst[j+1]\n",
    "                    lst[j+1]=t\n",
    "        print(lst)\n",
    "    check=(input(\"do you want to continue y/n : \"))\n",
    "    \n",
    "    "
   ]
  },
  {
   "cell_type": "code",
   "execution_count": 40,
   "metadata": {},
   "outputs": [
    {
     "name": "stdout",
     "output_type": "stream",
     "text": [
      "0\n",
      "2\n"
     ]
    }
   ],
   "source": [
    "f=open(\"file handling 101.txt\",\"r\")\n",
    "print(f.read())\n",
    "f.close()\n",
    "print(2)"
   ]
  },
  {
   "cell_type": "code",
   "execution_count": null,
   "metadata": {},
   "outputs": [],
   "source": []
  }
 ],
 "metadata": {
  "kernelspec": {
   "display_name": "Python 3",
   "language": "python",
   "name": "python3"
  },
  "language_info": {
   "codemirror_mode": {
    "name": "ipython",
    "version": 3
   },
   "file_extension": ".py",
   "mimetype": "text/x-python",
   "name": "python",
   "nbconvert_exporter": "python",
   "pygments_lexer": "ipython3",
   "version": "3.7.6"
  }
 },
 "nbformat": 4,
 "nbformat_minor": 2
}
