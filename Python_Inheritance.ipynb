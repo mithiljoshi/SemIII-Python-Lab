{
 "cells": [
  {
   "cell_type": "code",
   "execution_count": 21,
   "metadata": {},
   "outputs": [
    {
     "name": "stdout",
     "output_type": "stream",
     "text": [
      "enter maths marks: 56\n",
      "enter science marks: 78\n",
      "maths marks are:  56 \n",
      "science marks are:  78\n",
      "the sum of marks is:  134\n"
     ]
    }
   ],
   "source": [
    "#multiple inheritance\n",
    "class Maths(object):\n",
    "    def __init__(self,marksmaths):\n",
    "        self.marksmaths=marksmaths\n",
    "        \n",
    "class Science(object):\n",
    "    def __init__(self,marksscience):\n",
    "        self.marksscience=marksscience\n",
    "    \n",
    "class Student(Maths, Science):\n",
    "    def __init__(self,a,b):\n",
    "        Maths.__init__(self,a)\n",
    "        Science.__init__(self,b)\n",
    "    def printStrs(self):\n",
    "        print(\"maths marks are: \",self.marksmaths,\"\\nscience marks are: \" ,self.marksscience)\n",
    "        print(\"the sum of marks is: \",self.marksmaths+self.marksscience)\n",
    "\n",
    "m=int(input(\"enter maths marks: \"))\n",
    "n=int(input(\"enter science marks: \"))\n",
    "ob=Student(m,n)    \n",
    "ob.printStrs()\n",
    "        \n",
    "\n"
   ]
  },
  {
   "cell_type": "code",
   "execution_count": 10,
   "metadata": {},
   "outputs": [
    {
     "name": "stdout",
     "output_type": "stream",
     "text": [
      "Enter sides1:4\n",
      "Enter sides2:3\n",
      "Side  1  is  4.0\n",
      "Side  2  is  3.0\n",
      "the area of reactangle is  12.0\n"
     ]
    }
   ],
   "source": [
    "#single inheritance\n",
    "class Polygon:\n",
    "    def __init__(self, no_of_sides):\n",
    "        self.n=no_of_sides\n",
    "        self.sides=[0 for i in range(no_of_sides)]\n",
    "    def inputsides(self):\n",
    "        self.sides=[float(input(\"Enter sides\"+str(i+1)+\":\")) for i in range(self.n)]\n",
    "    def dispsides(self):\n",
    "        for i in range(self.n):\n",
    "            print(\"Side \",i+1,\" is \",self.sides[i])\n",
    "class Rectangle(Polygon):\n",
    "    def __init__(self):\n",
    "        Polygon.__init__(self,2)\n",
    "    def findArea(self):\n",
    "        l,b=self.sides\n",
    "        area=l*b\n",
    "        print(\"the area of reactangle is \",area)\n",
    "t=Rectangle()\n",
    "t.inputsides()\n",
    "t.dispsides()\n",
    "t.findArea()"
   ]
  }
 ],
 "metadata": {
  "kernelspec": {
   "display_name": "Python 3",
   "language": "python",
   "name": "python3"
  },
  "language_info": {
   "codemirror_mode": {
    "name": "ipython",
    "version": 3
   },
   "file_extension": ".py",
   "mimetype": "text/x-python",
   "name": "python",
   "nbconvert_exporter": "python",
   "pygments_lexer": "ipython3",
   "version": "3.7.6"
  }
 },
 "nbformat": 4,
 "nbformat_minor": 2
}
