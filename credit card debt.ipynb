{
 "cells": [
  {
   "cell_type": "code",
   "execution_count": 5,
   "metadata": {},
   "outputs": [
    {
     "name": "stdout",
     "output_type": "stream",
     "text": [
      "enter the outstanding balance on your credit card: 4800\n",
      "enter the annual interest rate as decimal: 0.2\n",
      "enter the minimum monthly payment rate as decimal: 0.04\n",
      "Month: 1 \n",
      " Minimum Monthly Payment:  192.0 \n",
      " Principal paid:  112.0 \n",
      " Remaining balance:  4688.0 \n",
      "\n",
      "Month: 2 \n",
      " Minimum Monthly Payment:  187.52 \n",
      " Principal paid:  109.39 \n",
      " Remaining balance:  4578.61 \n",
      "\n",
      "Month: 3 \n",
      " Minimum Monthly Payment:  183.14 \n",
      " Principal paid:  106.83 \n",
      " Remaining balance:  4471.78 \n",
      "\n",
      "Month: 4 \n",
      " Minimum Monthly Payment:  178.87 \n",
      " Principal paid:  104.34 \n",
      " Remaining balance:  4367.44 \n",
      "\n",
      "Month: 5 \n",
      " Minimum Monthly Payment:  174.7 \n",
      " Principal paid:  101.91 \n",
      " Remaining balance:  4265.53 \n",
      "\n",
      "Month: 6 \n",
      " Minimum Monthly Payment:  170.62 \n",
      " Principal paid:  99.53 \n",
      " Remaining balance:  4166.0 \n",
      "\n",
      "Month: 7 \n",
      " Minimum Monthly Payment:  166.64 \n",
      " Principal paid:  97.21 \n",
      " Remaining balance:  4068.79 \n",
      "\n",
      "Month: 8 \n",
      " Minimum Monthly Payment:  162.75 \n",
      " Principal paid:  94.94 \n",
      " Remaining balance:  3973.86 \n",
      "\n",
      "Month: 9 \n",
      " Minimum Monthly Payment:  158.95 \n",
      " Principal paid:  92.72 \n",
      " Remaining balance:  3881.13 \n",
      "\n",
      "Month: 10 \n",
      " Minimum Monthly Payment:  155.25 \n",
      " Principal paid:  90.56 \n",
      " Remaining balance:  3790.57 \n",
      "\n",
      "Month: 11 \n",
      " Minimum Monthly Payment:  151.62 \n",
      " Principal paid:  88.45 \n",
      " Remaining balance:  3702.13 \n",
      "\n",
      "Month: 12 \n",
      " Minimum Monthly Payment:  148.09 \n",
      " Principal paid:  86.38 \n",
      " Remaining balance:  3615.74 \n",
      "\n",
      "Total Amount Paid:  2030.15\n",
      "Remaining balance:  3615.74\n"
     ]
    }
   ],
   "source": [
    "outstanding_balance=float(input(\"enter the outstanding balance on your credit card: \"))\n",
    "annual_interest_rate=float(input(\"enter the annual interest rate as decimal: \"))\n",
    "minimum_monthly_payment_rate=float(input(\"enter the minimum monthly payment rate as decimal: \"))\n",
    "total_amount_list=[]\n",
    "\n",
    "for i in range(1,13):\n",
    "    minimum_monthly_payment = minimum_monthly_payment_rate*outstanding_balance #minimum monthly payment gets divided as principal and interest paid.\n",
    "    interest_paid = annual_interest_rate/12*(outstanding_balance)\n",
    "    principal_paid = minimum_monthly_payment - interest_paid\n",
    "    outstanding_balance = outstanding_balance - principal_paid \n",
    "    total_amount_list.append(minimum_monthly_payment)\n",
    "    print(\"Month:\", i,\"\\n\",\"Minimum Monthly Payment: \",round(minimum_monthly_payment,2 ),\"\\n\",\"Principal paid: \",round(principal_paid,2),\"\\n\",\"Remaining balance: \", round(outstanding_balance,2),\"\\n\")\n",
    "\n",
    "\n",
    "     \n",
    "print(\"Total Amount Paid: \", round(sum(total_amount_list),2))\n",
    "print(\"Remaining balance: \", round(outstanding_balance,2))\n",
    "\n",
    "\n",
    "\n"
   ]
  },
  {
   "cell_type": "code",
   "execution_count": 2,
   "metadata": {},
   "outputs": [
    {
     "name": "stdout",
     "output_type": "stream",
     "text": [
      "enter the outstanding balance on your credit card: 32000\n",
      "enter the annual interest rate as decimal: 0.2\n",
      "monthly payment to pay off debt:  2970\n",
      "numer of months:  296\n",
      "Balance:  -74.97661314499283\n"
     ]
    }
   ],
   "source": [
    "outstanding_balance=float(input(\"enter the outstanding balance on your credit card: \"))\n",
    "annual_interest_rate=float(input(\"enter the annual interest rate as decimal: \"))\n",
    "monthly_interest_rate=annual_interest_rate/12.0\n",
    "initial_monthly_payment=10\n",
    "can_pay=False\n",
    "x=0\n",
    "for j in range(0,int(outstanding_balance+1)):\n",
    "    updated_balance=outstanding_balance\n",
    "    for i in range(1,13):\n",
    "        updated_balance=(updated_balance*(1+ monthly_interest_rate))-initial_monthly_payment\n",
    "        if updated_balance<=0:    \n",
    "            can_pay=True\n",
    "            break\n",
    "    if can_pay==True:\n",
    "        break\n",
    "    else:\n",
    "        initial_monthly_payment=initial_monthly_payment+10\n",
    "    x=x+1\n",
    "    \n",
    "print(\"monthly payment to pay off debt: \",initial_monthly_payment)\n",
    "print(\"numer of months: \",x)\n",
    "print(\"Balance: \", updated_balance)\n",
    "        "
   ]
  },
  {
   "cell_type": "code",
   "execution_count": 10,
   "metadata": {},
   "outputs": [
    {
     "name": "stdout",
     "output_type": "stream",
     "text": [
      "enter the outstanding balance on your credit card: 999999\n",
      "enter the annual interest rate as decimal: 0.18\n",
      "monthly payment to pay off debt:  91679.901\n",
      "number of months:  12\n",
      "Balance:  -3.7049903767183423e-06\n"
     ]
    }
   ],
   "source": [
    "outstanding_balance=float(input(\"enter the outstanding balance on your credit card: \"))\n",
    "annual_interest_rate=float(input(\"enter the annual interest rate as decimal: \"))\n",
    "monthly_interest_rate=annual_interest_rate/12.0\n",
    "monthly_lower_bound=outstanding_balance/12.0\n",
    "monthly_upper_bound= (outstanding_balance * ((1 + monthly_interest_rate) ** 12.0)) / 12.0\n",
    "can_pay=False\n",
    "for j in range(100):\n",
    "    updated_balance=outstanding_balance\n",
    "    monthly_amount=(monthly_lower_bound+monthly_upper_bound)/2\n",
    "    x=0\n",
    "    for i in range(1,13):\n",
    "        updated_balance=(updated_balance*(1+ monthly_interest_rate))-monthly_amount\n",
    "        x=x+1\n",
    "        if (updated_balance<=0)and abs(updated_balance-0)<=0.00001:    \n",
    "            can_pay=True\n",
    "            break    \n",
    "    if can_pay==True:\n",
    "        break\n",
    "    else:\n",
    "        if updated_balance<-0.00001:\n",
    "            monthly_upper_bound=monthly_amount\n",
    "        else:\n",
    "            monthly_lower_bound=monthly_amount\n",
    "            \n",
    "\n",
    "print(\"monthly payment to pay off debt: \",round(monthly_amount,3))\n",
    "print(\"number of months: \",x)\n",
    "print(\"Balance: \", updated_balance)\n",
    "\n",
    "\n",
    "\n"
   ]
  }
 ],
 "metadata": {
  "kernelspec": {
   "display_name": "Python 3",
   "language": "python",
   "name": "python3"
  },
  "language_info": {
   "codemirror_mode": {
    "name": "ipython",
    "version": 3
   },
   "file_extension": ".py",
   "mimetype": "text/x-python",
   "name": "python",
   "nbconvert_exporter": "python",
   "pygments_lexer": "ipython3",
   "version": "3.7.3"
  }
 },
 "nbformat": 4,
 "nbformat_minor": 2
}
