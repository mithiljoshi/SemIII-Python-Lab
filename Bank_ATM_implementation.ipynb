{
 "cells": [
  {
   "cell_type": "code",
   "execution_count": 5,
   "metadata": {},
   "outputs": [
    {
     "name": "stdout",
     "output_type": "stream",
     "text": [
      "enter first number: 5\n",
      "enter second number: 89\n",
      "enter the operation number 1 for addition, 2 for substraction, 3 for multiplication, 4 for division: 4\n",
      "The value of the operation is:  0.056179775280898875\n"
     ]
    }
   ],
   "source": [
    "#aim:- write a program to create class which will perform ATM operations\n",
    "#define class to design a basic calculator\n",
    "\n",
    "class Calculator(object):\n",
    "    def __init__(self,num1,num2,var):\n",
    "        self.num1=num1\n",
    "        self.num2=num2\n",
    "        self.var=var\n",
    "    def calcq(self):\n",
    "        if (self.var==1):\n",
    "            return self.num1+self.num2\n",
    "        if (self.var==2):\n",
    "            return self.num1-self.num2\n",
    "        if (self.var==3):\n",
    "            return self.num1*self.num2\n",
    "        if (self.var==4):\n",
    "            return self.num1/self.num2\n",
    "    \n",
    "number1=int(input(\"enter first number: \"))\n",
    "number2=int(input(\"enter second number: \"))\n",
    "variable=int(input(\"enter the operation number 1 for addition, 2 for substraction, 3 for multiplication, 4 for division: \"))\n",
    "\n",
    "calc=Calculator(number1,number2,variable)\n",
    "value=calc.calcq()\n",
    "print(\"The value of the operation is: \",value)\n",
    "    \n",
    "        "
   ]
  },
  {
   "cell_type": "code",
   "execution_count": 1,
   "metadata": {
    "scrolled": true
   },
   "outputs": [
    {
     "name": "stdout",
     "output_type": "stream",
     "text": [
      "Welcome\n",
      "Insert you card\n",
      "enter your account name: MICHEALJOSH\n",
      "enter your pin number: 1559\n",
      "Account name verfied\n",
      "Pin is verified\n",
      "enter and choose operation\n",
      "choose operation number \n",
      "press 1 for deposit \n",
      "press 2 for withdrawal \n",
      "press 3 for seeing the balance1\n",
      "ENTER AMOUNT TO DEPOSIT: 5000\n",
      "YOUR UPDATED BALANCE IS:  5000\n",
      "press 0 to stop: 0\n"
     ]
    }
   ],
   "source": [
    "#to define a class of atm\n",
    "class ATM(object):\n",
    "    count=0\n",
    "    def __init__(self):\n",
    "        self.accountno=\"MICHEALJOSH\"\n",
    "        self.pin=1559\n",
    "        self.balance= 0\n",
    "    def check(self, pinno):\n",
    "                if(self.pin==pinno):\n",
    "                    print(\"HELLO \",self.accountno)\n",
    "                    print(\" Your Pin is verified\")\n",
    "                    return 1\n",
    "                else:\n",
    "                    print(\"INCORRECT PIN!\")\n",
    "                    return 0\n",
    "    def deposit(self, depositamount):\n",
    "        self.balance+=depositamount\n",
    "        print(\"YOUR UPDATED BALANCE IS: \",self.balance)\n",
    "    def withdraw(self, withdrawamount):\n",
    "        self.balance-=withdrawamount\n",
    "        print(\"YOUR UPDATED BALANCE IS: \",self.balance)\n",
    "    def show(self):\n",
    "        print(\"YOUR ACCOUNT BALANCE IS :\", self.balance)\n",
    "\n",
    "    \n",
    "\n",
    "print(\"Welcome\")\n",
    "print(\"Insert you card\")\n",
    "account1=ATM()\n",
    "\n",
    "while(account1.count<3):\n",
    "    accname=str(input(\"enter your account name: \"))\n",
    "    pinnumber=int(input(\"enter your pin number: \"))\n",
    "    checkdetails=account1.check(pinnumber, accname)\n",
    "    if(checkdetails==1):\n",
    "        print(\"enter and choose operation\")\n",
    "        enteredtimes=1\n",
    "        while(enteredtimes!=0):\n",
    "            operationno=int(input(\"choose operation number \\npress 1 for deposit \\npress 2 for withdrawal \\npress 3 for seeing the balance\"))\n",
    "            if(operationno==1):\n",
    "                deposited=int(input(\"ENTER AMOUNT TO DEPOSIT: \"))\n",
    "                account1.deposit(deposited)\n",
    "            elif(operationno==2):\n",
    "                deposited=int(input(\"ENTER AMOUNT TO WITHDRAW: \"))\n",
    "                account1.withdraw(deposited)\n",
    "            elif(operationno==3):\n",
    "                account1.show\n",
    "            enteredtimes=int(input(\"press 0 to stop: \"))\n",
    "        break\n",
    "    else:\n",
    "        print(\"ENTER YOUR ACCOUNT NAME AND PIN CORRECTLY!\")\n",
    "        account1.count=account1.count+1\n",
    "\n",
    "        \n",
    "\n",
    "    "
   ]
  },
  {
   "cell_type": "code",
   "execution_count": null,
   "metadata": {},
   "outputs": [],
   "source": []
  }
 ],
 "metadata": {
  "kernelspec": {
   "display_name": "Python 3",
   "language": "python",
   "name": "python3"
  },
  "language_info": {
   "codemirror_mode": {
    "name": "ipython",
    "version": 3
   },
   "file_extension": ".py",
   "mimetype": "text/x-python",
   "name": "python",
   "nbconvert_exporter": "python",
   "pygments_lexer": "ipython3",
   "version": "3.7.6"
  }
 },
 "nbformat": 4,
 "nbformat_minor": 2
}
