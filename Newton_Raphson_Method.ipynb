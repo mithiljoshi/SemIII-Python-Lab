{
 "cells": [
  {
   "cell_type": "code",
   "execution_count": null,
   "metadata": {},
   "outputs": [],
   "source": [
    "\n",
    "from math import *\n",
    "import scipy as sp\n",
    "from scipy.misc import derivative\n",
    "import matplotlib.pyplot as ply\n",
    "\n",
    "def f(x):\n",
    "    return((3*x)-(cos(x))-1)\n",
    "def df(x):\n",
    "    return(sp.misc.derivative(f,x))\n",
    "x=1\n",
    "m1=[]\n",
    "m2=[]\n",
    "count=0\n",
    "while True:\n",
    "    xnew=x-(f(x)/df(x))\n",
    "    m1.append(x)\n",
    "    m2.append(f(x))\n",
    "    if xnew==x:\n",
    "        print(\"the root is \", \"%.4f\"%xnew)\n",
    "        break\n",
    "    else:\n",
    "        x=xnew\n",
    "    count=count+1\n",
    "print(count)\n",
    "ply.grid()\n",
    "ply.plot(m1,m2)\n",
    "jupyter nbconvert mynotebook.ipynb --to python\n"
   ]
  },
  {
   "cell_type": "code",
   "execution_count": null,
   "metadata": {},
   "outputs": [],
   "source": []
  }
 ],
 "metadata": {
  "kernelspec": {
   "display_name": "Python 3",
   "language": "python",
   "name": "python3"
  },
  "language_info": {
   "codemirror_mode": {
    "name": "ipython",
    "version": 3
   },
   "file_extension": ".py",
   "mimetype": "text/x-python",
   "name": "python",
   "nbconvert_exporter": "python",
   "pygments_lexer": "ipython3",
   "version": "3.7.6"
  }
 },
 "nbformat": 4,
 "nbformat_minor": 2
}
