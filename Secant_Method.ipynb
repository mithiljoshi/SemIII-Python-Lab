{
 "cells": [
  {
   "cell_type": "code",
   "execution_count": 88,
   "metadata": {},
   "outputs": [
    {
     "name": "stdout",
     "output_type": "stream",
     "text": [
      "the root is  2.7144\n",
      "the error of convergence is  0.0000\n",
      "the number of iterations are  9\n"
     ]
    },
    {
     "data": {
      "text/plain": [
       "[<matplotlib.lines.Line2D at 0x1ff803055f8>]"
      ]
     },
     "execution_count": 88,
     "metadata": {},
     "output_type": "execute_result"
    },
    {
     "data": {
      "image/png": "[encoded data removed]",
      "text/plain": [
       "<Figure size 432x288 with 1 Axes>"
      ]
     },
     "metadata": {
      "needs_background": "light"
     },
     "output_type": "display_data"
    }
   ],
   "source": [
    "import matplotlib.pyplot as ply\n",
    "import math\n",
    "def f(x):\n",
    "    return(x**3-20)\n",
    "\n",
    "x0=1\n",
    "x1=2\n",
    "count=0\n",
    "m=[]\n",
    "n=[]\n",
    "\n",
    "while True:\n",
    "    a=(x1-x0)\n",
    "    b=(f(x1)-f(x0))\n",
    "    error=(a/x1)\n",
    "    if (f(x1)==f(x0)):\n",
    "        break\n",
    "    xn=(x1-(f(x1)*a/b))\n",
    "    if(error==0):\n",
    "        break\n",
    "    else:\n",
    "        x0=x1\n",
    "        x1=xn\n",
    "    count=count+1\n",
    "    m.append(xn)\n",
    "    n.append(f(xn))\n",
    "    \n",
    "print(\"the root is \", \"%.4f\"%xn)\n",
    "print(\"the error of convergence is \", \"%.4f\"%error)\n",
    "print(\"the number of iterations are \", count)\n",
    "ply.grid()\n",
    "ply.plot(m,n)\n",
    "        \n",
    "    "
   ]
  },
  {
   "cell_type": "code",
   "execution_count": null,
   "metadata": {},
   "outputs": [],
   "source": []
  },
  {
   "cell_type": "code",
   "execution_count": null,
   "metadata": {},
   "outputs": [],
   "source": []
  },
  {
   "cell_type": "code",
   "execution_count": null,
   "metadata": {},
   "outputs": [],
   "source": []
  }
 ],
 "metadata": {
  "kernelspec": {
   "display_name": "Python 3",
   "language": "python",
   "name": "python3"
  },
  "language_info": {
   "codemirror_mode": {
    "name": "ipython",
    "version": 3
   },
   "file_extension": ".py",
   "mimetype": "text/x-python",
   "name": "python",
   "nbconvert_exporter": "python",
   "pygments_lexer": "ipython3",
   "version": "3.7.6"
  }
 },
 "nbformat": 4,
 "nbformat_minor": 2
}
