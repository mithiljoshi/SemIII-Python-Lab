{
 "cells": [
  {
   "cell_type": "code",
   "execution_count": 42,
   "metadata": {},
   "outputs": [
    {
     "name": "stdout",
     "output_type": "stream",
     "text": [
      "[0.806790753796352, 7]\n"
     ]
    }
   ],
   "source": [
    "def evaluate_poly(poly, x):\n",
    "    polymaker=[]\n",
    "    for i in range(0,len(poly)):\n",
    "        polymaker.append(poly[i]*(x**i))\n",
    "    polyvalue= float(sum(polymaker))\n",
    "    return float(polyvalue)\n",
    "\n",
    "def compute_deriv(poly):\n",
    "    polyderiv=[]\n",
    "    for i in range(len(poly)):\n",
    "        polyderiv.append(poly[i]*i)\n",
    "    polyderiv.remove(polyderiv[0])    \n",
    "    polyderivtup=tuple(polyderiv)\n",
    "    return polyderivtup\n",
    "\n",
    "def compute_root(polyt, x_0, epsilon):\n",
    "    ctr=0\n",
    "    result=[]\n",
    "    for i in range(100):\n",
    "        if (abs(evaluate_poly(polyt,x_0)-0.0)<epsilon):\n",
    "            result.append(x_0)\n",
    "            break\n",
    "        else:\n",
    "            ctr=ctr+1\n",
    "            x_0=x_0-(evaluate_poly(polyt,x_0)/evaluate_poly(compute_deriv(polyt),x_0))\n",
    "    result.append(ctr)       \n",
    "    return (result)\n",
    "\n",
    "polytup=(-13.39, 0.0, 17.5, 3.0, 1.0)\n",
    "x_0=0.1\n",
    "epsilon=0.0001\n",
    "\n",
    "print(compute_root(polytup, x_0, epsilon))\n",
    "\n",
    "    \n",
    "    \n",
    "    \n",
    "    "
   ]
  }
 ],
 "metadata": {
  "kernelspec": {
   "display_name": "Python 3",
   "language": "python",
   "name": "python3"
  },
  "language_info": {
   "codemirror_mode": {
    "name": "ipython",
    "version": 3
   },
   "file_extension": ".py",
   "mimetype": "text/x-python",
   "name": "python",
   "nbconvert_exporter": "python",
   "pygments_lexer": "ipython3",
   "version": "3.7.6"
  }
 },
 "nbformat": 4,
 "nbformat_minor": 2
}
