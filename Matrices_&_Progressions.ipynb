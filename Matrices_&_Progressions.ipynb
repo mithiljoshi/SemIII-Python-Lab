{
 "cells": [
  {
   "cell_type": "code",
   "execution_count": 20,
   "metadata": {},
   "outputs": [
    {
     "name": "stdout",
     "output_type": "stream",
     "text": [
      "enter numbers: 3 4 5 6 7 8\n",
      "[3, 4, 5, 6, 7, 8]\n",
      "Its AP \n",
      "the common difference is:  1\n"
     ]
    }
   ],
   "source": [
    "x=[int(i) for i in input(\"enter numbers: \").split( )]\n",
    "print(x)\n",
    "k=sum(x)\n",
    "\n",
    "if (len(x)*(2*x[0]+(len(x)-1)*(x[1]-x[0]))/2)==k:\n",
    "    print(\"Its AP\",\"\\nthe common difference is: \",x[1]-x[0])\n",
    "elif ((((x[1]/x[0])**len(x)-1)/((x[1]/x[0])-1))*x[0])==k:\n",
    "    print(\"Its GP\",\"\\nthe common ratio is: \",x[1]/x[0])\n",
    "else:\n",
    "    print(\"NONE\")\n"
   ]
  },
  {
   "cell_type": "code",
   "execution_count": 4,
   "metadata": {},
   "outputs": [
    {
     "name": "stdout",
     "output_type": "stream",
     "text": [
      "Given matrix:\n",
      "1   23   3   \n",
      "4   5   6   \n",
      "7   8   9   \n",
      "\n",
      "Inverted matrix:\n",
      "-0.024   -1.452   0.976   \n",
      "0.048   -0.095   0.048   \n",
      "-0.024   1.214   -0.69   \n",
      "\n"
     ]
    }
   ],
   "source": [
    "row=3\n",
    "col=3\n",
    "print(\"Given matrix:\")\n",
    "a=[[1,23,3],[4,5,6],[7,8,9]]\n",
    "for i in range(len(a)):\n",
    "    for j in range(len(a[i])):\n",
    "        print(a[i][j], end=\"   \")\n",
    "    print()\n",
    "print()\n",
    "\n",
    "def main(a):\n",
    "    ac=a\n",
    "    minors=[[0,0,0],[0,0,0],[0,0,0]]\n",
    "    cof=[[0,0,0],[0,0,0],[0,0,0]]\n",
    "    adj=[[0,0,0],[0,0,0],[0,0,0]]\n",
    "    inv=[[0,0,0],[0,0,0],[0,0,0]]\n",
    "    for i in range(len(a)):\n",
    "        tempr=ac[i]\n",
    "        del ac[i]\n",
    "\n",
    "        for j in range(3):\n",
    "            tempc1=ac[0][j]\n",
    "            tempc2=ac[1][j]\n",
    "            del ac[0][j]\n",
    "            del ac[1][j]\n",
    "            minors[i][j]=det(ac)\n",
    "            \n",
    "            ac[0].insert(j,tempc1)\n",
    "            ac[1].insert(j,tempc2)\n",
    "\n",
    "\n",
    "        ac.insert(i,tempr)\n",
    "\n",
    "    for i in range(len(minors)):\n",
    "        for j in range(len(minors[0])):\n",
    "            if((i+j)%2!=0):\n",
    "                cof[i][j]=(-1)*minors[i][j]\n",
    "            else:\n",
    "                cof[i][j]=minors[i][j]\n",
    "    adj=transpose(cof)\n",
    "\n",
    "    d=a[0][0]*minors[0][0]-a[0][1]*minors[0][1]+a[0][2]*minors[0][2]\n",
    "    if(d==0):\n",
    "        print(\"Inverse not possible\")\n",
    "        return\n",
    "    \n",
    "\n",
    "    for i in range(3):\n",
    "        for j in range(3):\n",
    "            inv[i][j]=round(adj[i][j]/d,3)\n",
    "\n",
    "    print(\"Inverted matrix:\")\n",
    "    for i in range(len(inv)):\n",
    "        for j in range(len(inv[i])):\n",
    "            print(inv[i][j], end=\"   \")\n",
    "        print()\n",
    "    print()\n",
    "\n",
    "def det(x):\n",
    "    var=x[0][0]*x[1][1]-x[0][1]*x[1][0]\n",
    "    return var\n",
    "\n",
    "def transpose(M):\n",
    "     T=[[0,0,0],[0,0,0],[0,0,0]]\n",
    "     for i in range(len(M)):\n",
    "         for j in range(len(M[0])):\n",
    "             T[j][i]=M[i][j]\n",
    "     return T\n",
    "\n",
    "main(a)\n"
   ]
  },
  {
   "cell_type": "code",
   "execution_count": null,
   "metadata": {},
   "outputs": [],
   "source": []
  }
 ],
 "metadata": {
  "kernelspec": {
   "display_name": "Python 3",
   "language": "python",
   "name": "python3"
  },
  "language_info": {
   "codemirror_mode": {
    "name": "ipython",
    "version": 3
   },
   "file_extension": ".py",
   "mimetype": "text/x-python",
   "name": "python",
   "nbconvert_exporter": "python",
   "pygments_lexer": "ipython3",
   "version": "3.7.6"
  }
 },
 "nbformat": 4,
 "nbformat_minor": 2
}
