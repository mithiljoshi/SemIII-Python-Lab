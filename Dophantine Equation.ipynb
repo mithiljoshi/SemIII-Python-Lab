{
 "cells": [
  {
   "cell_type": "code",
   "execution_count": 1,
   "metadata": {},
   "outputs": [
    {
     "name": "stdout",
     "output_type": "stream",
     "text": [
      "enter package sizes: 6 9 20\n",
      "Given package sizes  6 9 20  the largest number of McNuggets that cannot be bought in exact quantity is:  43\n"
     ]
    }
   ],
   "source": [
    "def solve_dophantine(n,packages):\n",
    "    nuggets=[]\n",
    "    solved=False\n",
    "    for c in range(int(n/packages[2])+1):\n",
    "        for b in range(int(n/packages[1])+1):\n",
    "            for a in range(int(n/packages[0])+1):\n",
    "                if a*packages[0]+b*packages[1]+c*packages[2]==n:\n",
    "                    solved=True\n",
    "                    nuggets.append(n)\n",
    "                    break\n",
    "            else:\n",
    "                continue\n",
    "            break\n",
    "        else:\n",
    "            continue\n",
    "        break    \n",
    "    if solved==False:\n",
    "        return False\n",
    "    else:\n",
    "        return True\n",
    "#---------------------------------------x--------------------------------\n",
    "package_list=[int(i) for i in input(\"enter package sizes: \").split( )]        \n",
    "bestSoFar,ctr=0,0    # variable that keeps track of largest number of McNuggets that cannot be bought in exact quantity0\n",
    "packages = tuple(package_list)   # variable that contains package sizes\n",
    "for n in range(1, 150):   # only search for solutions up to size 150\n",
    "    ## complete code here to find largest size that cannot be bought\n",
    "    ## when done, your answer should be bound to bestSoFar\n",
    "    check=solve_dophantine(n,packages)\n",
    "    if check==False:\n",
    "        bestSoFar=n\n",
    "        ctr=ctr-1\n",
    "    else:\n",
    "        ctr=ctr+1\n",
    "    if ctr==5:\n",
    "        break\n",
    "\n",
    "        \n",
    "print(\"Given package sizes \",package_list[0],package_list[1],package_list[2],\" the largest number of McNuggets that cannot be bought in exact quantity is: \",bestSoFar)"
   ]
  }
 ],
 "metadata": {
  "kernelspec": {
   "display_name": "Python 3",
   "language": "python",
   "name": "python3"
  },
  "language_info": {
   "codemirror_mode": {
    "name": "ipython",
    "version": 3
   },
   "file_extension": ".py",
   "mimetype": "text/x-python",
   "name": "python",
   "nbconvert_exporter": "python",
   "pygments_lexer": "ipython3",
   "version": "3.7.3"
  }
 },
 "nbformat": 4,
 "nbformat_minor": 2
}
